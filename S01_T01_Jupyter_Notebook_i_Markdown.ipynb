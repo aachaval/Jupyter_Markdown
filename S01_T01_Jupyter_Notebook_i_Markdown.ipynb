{
 "cells": [
  {
   "cell_type": "markdown",
   "id": "a28dc41c",
   "metadata": {},
   "source": [
    "# S01 T01: Jupyter Notebook i Markdown"
   ]
  },
  {
   "cell_type": "markdown",
   "id": "bf620a2d",
   "metadata": {},
   "source": [
    "## <u>Headings</u> (subrayado con etiqueta HTML)\n",
    "### Major headings\n",
    "#### Subheadings\n",
    "\n",
    "\n",
    "#### *Alumno: Alberto Achaval - Data Science*\n",
    "#### _Durada: 7 dies_"
   ]
  },
  {
   "cell_type": "markdown",
   "id": "b74d1f21",
   "metadata": {},
   "source": [
    "## Listas ordenadas y desordenadas\n",
    "\n",
    "1. Nivel 1 \n",
    " 1. Exercici 1\n",
    " 2. Exercici 2\n",
    " 3. Exercici 3\n",
    "2. Nivel 2\n",
    " 1. Exercici 1\n",
    "3. Nivel 3\n",
    " 1. Exercici 1\n",
    " \n",
    "* bullet\n",
    " * sub-bullet\n",
    "- another bullet"
   ]
  },
  {
   "cell_type": "markdown",
   "id": "39d1e134",
   "metadata": {},
   "source": [
    "## Emphasis\n",
    "\n",
    "\\*literal asterisks\\*  \n",
    "*italic*  \n",
    "This <span style=\"color:red\">word</span> is not black (with HTML).\n",
    "\n",
    "<div class=\"alert alert-block alert-info\">\n",
    "<b>Tip:</b> Use blue boxes (alert-info) for tips and notes. \n",
    "If it’s a note, you don’t have to include the word “Note”.\n",
    "</div>"
   ]
  },
  {
   "cell_type": "markdown",
   "id": "edd87004",
   "metadata": {},
   "source": [
    "**Negrita**  \n",
    "__Also bold__\n",
    "\n"
   ]
  },
  {
   "cell_type": "markdown",
   "id": "c80ba6d6",
   "metadata": {},
   "source": [
    ">Indented  \n",
    "*italic*  \n",
    "**bold**\n"
   ]
  },
  {
   "cell_type": "markdown",
   "id": "fffcea97",
   "metadata": {},
   "source": [
    "## Tables\n",
    "\n",
    "| left | center | right |\n",
    "|:-----|:------:|------:|\n",
    "|A     |B       |8      |"
   ]
  },
  {
   "cell_type": "markdown",
   "id": "961e577f",
   "metadata": {},
   "source": [
    "## Links"
   ]
  },
  {
   "cell_type": "markdown",
   "id": "c644d41d",
   "metadata": {},
   "source": [
    "[Linkedin](https://www.linkedin.com/in/albertoachavalrodriguez)\n",
    "\n",
    "#### Con tulltip\n",
    "\n",
    "[Linkedin](https://www.linkedin.com/in/albertoachavalrodriguez \"Perfil Alberto\")"
   ]
  },
  {
   "cell_type": "markdown",
   "id": "1ca0b7fd",
   "metadata": {},
   "source": [
    "## Insert Image\n",
    "\n",
    "* Desde URL\n",
    "![Con colores](https://fotografiamejorparavendermas.com/wp-content/uploads/2017/06/La-importancia-de-la-imagen.jpg)\n"
   ]
  },
  {
   "attachments": {
    "pie.jpg": {
     "image/jpeg": "[encoded data removed]"
    }
   },
   "cell_type": "markdown",
   "id": "b1c8f4c6",
   "metadata": {},
   "source": [
    "* Arrastrando y soltando\n",
    "![pie.jpg](attachment:pie.jpg)"
   ]
  },
  {
   "cell_type": "markdown",
   "id": "ccddf90e",
   "metadata": {},
   "source": [
    "* Ajustar tamaño con HTML\n",
    "<img src=https://fotografiamejorparavendermas.com/wp-content/uploads/2017/06/La-importancia-de-la-imagen.jpg width=\"200\">\n"
   ]
  },
  {
   "cell_type": "markdown",
   "id": "866f3c1c",
   "metadata": {},
   "source": [
    "## Collapsible Headings (Nbextensions)"
   ]
  },
  {
   "cell_type": "markdown",
   "id": "8230108a",
   "metadata": {},
   "source": [
    "### Nivel 1"
   ]
  },
  {
   "cell_type": "code",
   "execution_count": 1,
   "id": "e194ec0c",
   "metadata": {},
   "outputs": [
    {
     "data": {
      "text/plain": [
       "25"
      ]
     },
     "execution_count": 1,
     "metadata": {},
     "output_type": "execute_result"
    }
   ],
   "source": [
    "5*5"
   ]
  },
  {
   "cell_type": "markdown",
   "id": "845874d9",
   "metadata": {},
   "source": [
    "### Nivel 1"
   ]
  },
  {
   "cell_type": "code",
   "execution_count": 3,
   "id": "5535ce55",
   "metadata": {},
   "outputs": [
    {
     "data": {
      "text/plain": [
       "1"
      ]
     },
     "execution_count": 3,
     "metadata": {},
     "output_type": "execute_result"
    }
   ],
   "source": [
    "int(5/5)"
   ]
  },
  {
   "cell_type": "markdown",
   "id": "960d5bd7",
   "metadata": {},
   "source": [
    "#### Nivel 2"
   ]
  },
  {
   "cell_type": "code",
   "execution_count": 4,
   "id": "ed8bf0e5",
   "metadata": {},
   "outputs": [
    {
     "data": {
      "text/plain": [
       "0"
      ]
     },
     "execution_count": 4,
     "metadata": {},
     "output_type": "execute_result"
    }
   ],
   "source": [
    "5-5"
   ]
  },
  {
   "cell_type": "markdown",
   "id": "6c70ea68",
   "metadata": {},
   "source": [
    "### Nivel 1"
   ]
  },
  {
   "cell_type": "code",
   "execution_count": 1,
   "id": "fa01bf42",
   "metadata": {},
   "outputs": [
    {
     "data": {
      "text/plain": [
       "1972"
      ]
     },
     "execution_count": 1,
     "metadata": {},
     "output_type": "execute_result"
    }
   ],
   "source": [
    "2022-10*5"
   ]
  },
  {
   "cell_type": "markdown",
   "id": "f9ae7aa3",
   "metadata": {},
   "source": [
    "## Operaciones básicas Python"
   ]
  },
  {
   "cell_type": "code",
   "execution_count": 6,
   "id": "4a971fc8",
   "metadata": {},
   "outputs": [
    {
     "name": "stdout",
     "output_type": "stream",
     "text": [
      "(1, 2, 3, 4)\n",
      "True\n"
     ]
    }
   ],
   "source": [
    "tupla = (1,2,3,4)\n",
    "print(tupla)\n",
    "print(4 in tupla)"
   ]
  },
  {
   "cell_type": "code",
   "execution_count": 2,
   "id": "e73dca0b",
   "metadata": {},
   "outputs": [
    {
     "name": "stdout",
     "output_type": "stream",
     "text": [
      "[1, 2, 3, 10, 1, 2, 3, 10]\n",
      "[1, 2]\n",
      "[10]\n",
      "[2, 3]\n"
     ]
    }
   ],
   "source": [
    "lista = [1,2,3,10]\n",
    "print(lista*2)\n",
    "print(lista[:2])\n",
    "print(lista[3:])\n",
    "print(lista[1:3])"
   ]
  },
  {
   "cell_type": "code",
   "execution_count": 11,
   "id": "0d0c24e6",
   "metadata": {},
   "outputs": [
    {
     "name": "stdout",
     "output_type": "stream",
     "text": [
      "{'clave_1': 1, 'clave_2': {'clave_21': [1, 2, 3], 'clave_22': 'prueba'}}\n"
     ]
    }
   ],
   "source": [
    "dict = {\"clave_1\": 1, \"clave_2\": {\"clave_21\": [1, 2, 3], \"clave_22\": \"prueba\"}}\n",
    "print (dict)"
   ]
  }
 ],
 "metadata": {
  "kernelspec": {
   "display_name": "Python 3 (ipykernel)",
   "language": "python",
   "name": "python3"
  },
  "language_info": {
   "codemirror_mode": {
    "name": "ipython",
    "version": 3
   },
   "file_extension": ".py",
   "mimetype": "text/x-python",
   "name": "python",
   "nbconvert_exporter": "python",
   "pygments_lexer": "ipython3",
   "version": "3.9.7"
  }
 },
 "nbformat": 4,
 "nbformat_minor": 5
}
